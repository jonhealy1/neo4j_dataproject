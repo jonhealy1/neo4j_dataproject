{
 "cells": [
  {
   "cell_type": "markdown",
   "metadata": {},
   "source": [
    "#### Load data then sort it by source and target subreddits"
   ]
  },
  {
   "cell_type": "code",
   "execution_count": null,
   "metadata": {},
   "outputs": [],
   "source": [
    "import pandas as pd\n",
    "data = pd.read_csv(\"title_tab_separated.csv\")\n",
    "data.head()\n",
    "\n",
    "data_sorted = data.sort_values(by=['SOURCE_SUBREDDIT', 'TARGET_SUBREDDIT'], inplace=False, ascending=False)\n",
    "data_sorted.head()"
   ]
  },
  {
   "cell_type": "markdown",
   "metadata": {},
   "source": [
    "#### Make positive and negative sentiment dataframes"
   ]
  },
  {
   "cell_type": "code",
   "execution_count": null,
   "metadata": {},
   "outputs": [],
   "source": [
    "neg_matrix = data_sorted['LINK_SENTIMENT'] < 0\n",
    "pos_matrix = data_sorted['LINK_SENTIMENT'] > 0\n",
    "data_sorted[neg_matrix]\n",
    "data_sorted[pos_matrix]\n",
    "\n",
    "matrix1_neg = data_sorted[neg_matrix].groupby(['SOURCE_SUBREDDIT', 'TARGET_SUBREDDIT']).LINK_SENTIMENT.sum()\n",
    "matrix1_pos = data_sorted[pos_matrix].groupby(['SOURCE_SUBREDDIT', 'TARGET_SUBREDDIT']).LINK_SENTIMENT.sum()"
   ]
  },
  {
   "cell_type": "markdown",
   "metadata": {},
   "source": [
    "#### the_donald -> target # of link sentiments positive "
   ]
  },
  {
   "cell_type": "code",
   "execution_count": null,
   "metadata": {},
   "outputs": [],
   "source": [
    "print(matrix1_pos['the_donald'].to_string())"
   ]
  },
  {
   "cell_type": "markdown",
   "metadata": {},
   "source": [
    "#### the_donald -> target # of link sentiments negative "
   ]
  },
  {
   "cell_type": "code",
   "execution_count": null,
   "metadata": {},
   "outputs": [],
   "source": [
    "print(matrix1_neg['the_donald'].to_string())"
   ]
  },
  {
   "cell_type": "markdown",
   "metadata": {},
   "source": [
    "#### Make dataframe for total sentiment: positive plus sentiment"
   ]
  },
  {
   "cell_type": "code",
   "execution_count": null,
   "metadata": {},
   "outputs": [],
   "source": [
    "matrix_total = data_sorted.groupby(['SOURCE_SUBREDDIT', 'TARGET_SUBREDDIT']).LINK_SENTIMENT.sum()"
   ]
  },
  {
   "cell_type": "markdown",
   "metadata": {},
   "source": [
    "#### the_donald -> target # of link sentiments total - negative + postive"
   ]
  },
  {
   "cell_type": "code",
   "execution_count": null,
   "metadata": {},
   "outputs": [],
   "source": [
    "print(matrix_total['the_donald'].to_string())"
   ]
  },
  {
   "cell_type": "markdown",
   "metadata": {},
   "source": [
    "#### Save positive and negatives CSVs"
   ]
  },
  {
   "cell_type": "code",
   "execution_count": null,
   "metadata": {},
   "outputs": [],
   "source": [
    "matrix1_pos.to_csv('matrix1_pos.csv')\n",
    "matrix1_neg.to_csv('matrix1_neg.csv')"
   ]
  },
  {
   "cell_type": "markdown",
   "metadata": {},
   "source": [
    "#### Load neg CSV that was just saved"
   ]
  },
  {
   "cell_type": "code",
   "execution_count": null,
   "metadata": {},
   "outputs": [],
   "source": [
    "neg_data = pd.read_csv(\"matrix1_neg.csv\")\n",
    "neg_data.head()\n",
    "\n",
    "pos_data = pd.read_csv(\"matrix1_pos.csv\")\n",
    "pos_data.head()"
   ]
  },
  {
   "cell_type": "code",
   "execution_count": null,
   "metadata": {},
   "outputs": [],
   "source": [
    "print(neg_data.columns)\n",
    "print(pos_data.columns)"
   ]
  },
  {
   "cell_type": "code",
   "execution_count": null,
   "metadata": {},
   "outputs": [],
   "source": [
    "neg_data.rename(columns={'1200isjerky':'source',\n",
    "                          '1200isplenty':'target',\n",
    "                          '-1':'weight'}, \n",
    "                 inplace=True)\n",
    "\n",
    "pos_data.rename(columns={'07thexpansion':'source',\n",
    "                          'visualnovels':'target',\n",
    "                          '1':'weight'}, \n",
    "                 inplace=True)"
   ]
  },
  {
   "cell_type": "code",
   "execution_count": null,
   "metadata": {},
   "outputs": [],
   "source": [
    "pos_data.to_csv('matrix1_pos.csv')\n",
    "neg_data.to_csv('matrix1_neg.csv')"
   ]
  },
  {
   "cell_type": "markdown",
   "metadata": {},
   "source": [
    "#### display graph"
   ]
  },
  {
   "cell_type": "code",
   "execution_count": 1,
   "metadata": {},
   "outputs": [],
   "source": [
    "import jgraph\n",
    "from py2neo import Graph, Node, Relationship\n",
    "import sys\n",
    "graph = Graph(password=\"password\")"
   ]
  },
  {
   "cell_type": "code",
   "execution_count": 2,
   "metadata": {},
   "outputs": [
    {
     "data": {
      "text/html": [
       "<div id=\"graph-cafb0fe4-3f42-447f-be13-8e9f5c179b09\"></div>\n",
       "           <script type=\"text/javascript\">\n",
       "           require.config({baseUrl: '/',\n",
       "                             paths: {jgraph: ['nbextensions/jgraph.min', 'https://rawgit.com/patrickfuller/jgraph/master/js/build/jgraph.min']}});\n",
       "           require(['jgraph'], function () {\n",
       "               var $d = $('#graph-cafb0fe4-3f42-447f-be13-8e9f5c179b09');\n",
       "               $d.width(600); $d.height(400);\n",
       "               $d.jgraph = jQuery.extend({}, jgraph);\n",
       "               $d.jgraph.create($d, {nodeSize: 2.000000,\n",
       "                                     edgeSize: 0.250000,\n",
       "                                     defaultNodeColor: '0x383294',\n",
       "                                     defaultEdgeColor: '0xaaaaaa',\n",
       "                                     shader: 'lambert',\n",
       "                                     z: 100,\n",
       "                                     runOptimization: true,\n",
       "                                     directed: true,\n",
       "                                     showSave: false});\n",
       "               $d.jgraph.draw({\n",
       "    \"edges\": [\n",
       "        { \"source\": \"circlebroke2\", \"target\": \"adviceanimals\" },\n",
       "        { \"source\": \"shitpost\", \"target\": \"adviceanimals\" },\n",
       "        { \"source\": \"bestof\", \"target\": \"adviceanimals\" },\n",
       "        { \"source\": \"subredditdrama\", \"target\": \"adviceanimals\" },\n",
       "        { \"source\": \"amrsucks\", \"target\": \"againstmensrights\" },\n",
       "        { \"source\": \"subredditdrama\", \"target\": \"anarchism\" },\n",
       "        { \"source\": \"drama\", \"target\": \"anarchism\" },\n",
       "        { \"source\": \"enoughlibertarianspam\", \"target\": \"anarcho_capitalism\" },\n",
       "        { \"source\": \"gaybroscirclejerk\", \"target\": \"askgaybros\" },\n",
       "        { \"source\": \"circlejerkaustralia\", \"target\": \"australia\" },\n",
       "        { \"source\": \"beercirclejerk\", \"target\": \"beer\" },\n",
       "        { \"source\": \"angryblackladies\", \"target\": \"blackladies\" },\n",
       "        { \"source\": \"bnestrong\", \"target\": \"brisbane\" },\n",
       "        { \"source\": \"subredditdrama\", \"target\": \"conspiracy\" },\n",
       "        { \"source\": \"drugscirclejerk\", \"target\": \"drugs\" },\n",
       "        { \"source\": \"frdbroke\", \"target\": \"femradebates\" },\n",
       "        { \"source\": \"circlebroke2\", \"target\": \"funny\" },\n",
       "        { \"source\": \"againstkarmawhores\", \"target\": \"funny\" },\n",
       "        { \"source\": \"subredditdrama\", \"target\": \"funny\" },\n",
       "        { \"source\": \"srssucks\", \"target\": \"gamerghazi\" }\n",
       "    ],\n",
       "    \"nodes\": {\n",
       "        \"adviceanimals\": { \"location\": [ 2.0, 2.0, 2.0 ] },\n",
       "        \"againstkarmawhores\": { \"location\": [ 2.0, 2.0, 2.0 ] },\n",
       "        \"againstmensrights\": { \"location\": [ 2.0, 2.0, 2.0 ] },\n",
       "        \"amrsucks\": { \"location\": [ 2.0, 2.0, 2.0 ] },\n",
       "        \"anarchism\": { \"location\": [ 2.0, 2.0, 2.0 ] },\n",
       "        \"anarcho_capitalism\": { \"location\": [ -2.0, -2.0, -2.0 ] },\n",
       "        \"angryblackladies\": { \"location\": [ -2.0, -2.0, -2.0 ] },\n",
       "        \"askgaybros\": { \"location\": [ -2.0, -2.0, -2.0 ] },\n",
       "        \"australia\": { \"location\": [ -2.0, -2.0, -2.0 ] },\n",
       "        \"beer\": { \"location\": [ -2.0, -2.0, -2.0 ] },\n",
       "        \"beercirclejerk\": { \"location\": [ 2.0, 2.0, 2.0 ] },\n",
       "        \"bestof\": { \"location\": [ -2.0, -2.0, -2.0 ] },\n",
       "        \"blackladies\": { \"location\": [ 2.0, 2.0, 2.0 ] },\n",
       "        \"bnestrong\": { \"location\": [ -2.0, -2.0, -2.0 ] },\n",
       "        \"brisbane\": { \"location\": [ -2.0, -2.0, -2.0 ] },\n",
       "        \"circlebroke2\": { \"location\": [ 2.0, 2.0, 2.0 ] },\n",
       "        \"circlejerkaustralia\": { \"location\": [ -2.0, -2.0, -2.0 ] },\n",
       "        \"conspiracy\": { \"location\": [ -2.0, -2.0, -2.0 ] },\n",
       "        \"drama\": { \"location\": [ -2.0, -2.0, -2.0 ] },\n",
       "        \"drugs\": { \"location\": [ 2.0, 2.0, 2.0 ] },\n",
       "        \"drugscirclejerk\": { \"location\": [ -0.2946656175497204, -0.4153670642446657, -1.355487596618623 ] },\n",
       "        \"enoughlibertarianspam\": { \"location\": [ 2.0, 1.5216877387265197, 0.6185989246715777 ] },\n",
       "        \"femradebates\": { \"location\": [ 2.0, 2.0, 2.0 ] },\n",
       "        \"frdbroke\": { \"location\": [ 2.0, 2.0, 2.0 ] },\n",
       "        \"funny\": { \"location\": [ -0.5796825898932381, -1.5625636212536278, -0.8171404969929364 ] },\n",
       "        \"gamerghazi\": { \"location\": [ 2.0, 2.0, 2.0 ] },\n",
       "        \"gaybroscirclejerk\": { \"location\": [ -2.0, -2.0, -2.0 ] },\n",
       "        \"shitpost\": { \"location\": [ 2.0, 2.0, 2.0 ] },\n",
       "        \"srssucks\": { \"location\": [ 0.6472240984416598, 0.5482126924241416, 1.044347423209875 ] },\n",
       "        \"subredditdrama\": { \"location\": [ -2.0, -2.0, -2.0 ] }\n",
       "    }\n",
       "});\n",
       "\n",
       "               $d.resizable({\n",
       "                   aspectRatio: 600 / 400,\n",
       "                   resize: function (evt, ui) {\n",
       "                       $d.jgraph.renderer.setSize(ui.size.width,\n",
       "                                                  ui.size.height);\n",
       "                   }\n",
       "               });\n",
       "           });\n",
       "           </script>"
      ],
      "text/plain": [
       "<IPython.core.display.HTML object>"
      ]
     },
     "metadata": {},
     "output_type": "display_data"
    }
   ],
   "source": [
    "data = graph.run(\"MATCH (s:Subreddit)-[l:LINK]->(t:Subreddit) \\\n",
    "        WHERE l.weight < -40 \\\n",
    "        RETURN s.id, t.id LIMIT 20\")\n",
    "data = [tuple(x) for x in data]\n",
    "\n",
    "from ipywidgets.embed import embed_minimal_html\n",
    "\n",
    "fig = jgraph.draw(data , shader=\"lambert\", default_node_color=0x383294)\n"
   ]
  },
  {
   "cell_type": "code",
   "execution_count": null,
   "metadata": {},
   "outputs": [],
   "source": [
    "data = graph.run(\"MATCH allShortestPaths((u:Subreddit {id:'mapporn'})-[*]-(me:Subreddit {id:'alpharetta'})) RETURN u.id, me.id\")\n",
    "\n",
    "data = [tuple(x) for x in data]\n",
    "\n",
    "jgraph.draw(data , shader=\"lambert\", default_node_color=0x383294)"
   ]
  },
  {
   "cell_type": "code",
   "execution_count": null,
   "metadata": {},
   "outputs": [],
   "source": [
    "from igraph import Graph as IGraph\n",
    "\n",
    "query = '''\n",
    "MATCH (c1:Subreddit)-[r:LINK]->(c2:Subreddit)\n",
    "RETURN c1.id, c2.id, r.weight AS weight\n",
    "'''\n",
    "\n",
    "ig = IGraph.TupleList(graph.run(query), weights=True)"
   ]
  },
  {
   "cell_type": "code",
   "execution_count": null,
   "metadata": {},
   "outputs": [],
   "source": [
    "pg = ig.pagerank()\n",
    "pgvs = []\n",
    "for p in zip(ig.vs, pg):\n",
    "    print(p)\n",
    "    pgvs.append({\"name\": p[0][\"name\"], \"pg\": p[1]})\n",
    "pgvs\n",
    "\n",
    "write_clusters_query = '''\n",
    "UNWIND {nodes} AS n\n",
    "MATCH (c:Subreddit) WHERE c.id = n.id\n",
    "SET c.pagerank = n.pg\n",
    "'''\n",
    "\n",
    "graph.run(write_clusters_query, nodes=pgvs)"
   ]
  },
  {
   "cell_type": "code",
   "execution_count": null,
   "metadata": {},
   "outputs": [],
   "source": [
    "# MATCH (n:Subreddit)\n",
    "# RETURN n.id AS name, n.pagerank AS pagerank ORDER BY pagerank DESC LIMIT 10"
   ]
  },
  {
   "cell_type": "code",
   "execution_count": null,
   "metadata": {},
   "outputs": [],
   "source": [
    "from py2neo import Graph\n",
    "from igraph import Graph as IGraph\n",
    "graph = Graph(password=\"password\")\n"
   ]
  },
  {
   "cell_type": "code",
   "execution_count": null,
   "metadata": {},
   "outputs": [],
   "source": [
    "print(graph)"
   ]
  },
  {
   "cell_type": "code",
   "execution_count": null,
   "metadata": {},
   "outputs": [],
   "source": []
  },
  {
   "cell_type": "code",
   "execution_count": null,
   "metadata": {},
   "outputs": [],
   "source": []
  }
 ],
 "metadata": {
  "kernelspec": {
   "display_name": "Python 3",
   "language": "python",
   "name": "python3"
  },
  "language_info": {
   "codemirror_mode": {
    "name": "ipython",
    "version": 3
   },
   "file_extension": ".py",
   "mimetype": "text/x-python",
   "name": "python",
   "nbconvert_exporter": "python",
   "pygments_lexer": "ipython3",
   "version": "3.7.3"
  }
 },
 "nbformat": 4,
 "nbformat_minor": 2
}
